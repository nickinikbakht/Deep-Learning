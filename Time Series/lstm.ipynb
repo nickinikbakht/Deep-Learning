{
  "cells": [
    {
      "cell_type": "code",
      "execution_count": 2,
      "metadata": {
        "id": "oHE6Jkgr2CfZ"
      },
      "outputs": [],
      "source": [
        "import pandas as pd\n",
        "import numpy as np\n",
        "import matplotlib.pyplot as plt\n",
        "import seaborn as sns\n",
        "import tensorflow as tf\n",
        "import os"
      ]
    },
    {
      "cell_type": "code",
      "execution_count": null,
      "metadata": {},
      "outputs": [],
      "source": [
        "df = pd.read_excel(\"/content/data.xlsx\")\n",
        "df.head()"
      ]
    },
    {
      "cell_type": "code",
      "execution_count": null,
      "metadata": {
        "id": "GfoeU77R28FS"
      },
      "outputs": [],
      "source": [
        "df.isna().sum()"
      ]
    },
    {
      "cell_type": "code",
      "execution_count": null,
      "metadata": {
        "id": "uWlffzq83AZ4"
      },
      "outputs": [],
      "source": [
        "df.fillna(0, inplace=True)"
      ]
    },
    {
      "cell_type": "code",
      "execution_count": null,
      "metadata": {
        "id": "odWhONMm31HZ"
      },
      "outputs": [],
      "source": [
        "df = df.sort_values(by=\"Date\")\n",
        "df"
      ]
    },
    {
      "cell_type": "code",
      "execution_count": null,
      "metadata": {
        "id": "QfLzHUEO3_PR"
      },
      "outputs": [],
      "source": [
        "df.index = df.Date"
      ]
    },
    {
      "cell_type": "code",
      "execution_count": null,
      "metadata": {
        "id": "lJfjic9R5hcZ"
      },
      "outputs": [],
      "source": [
        "plt.figure(figsize=(10,3))\n",
        "df.XXX.plot()"
      ]
    },
    {
      "cell_type": "code",
      "execution_count": null,
      "metadata": {
        "id": "_3yEq8zI52ZR"
      },
      "outputs": [],
      "source": [
        "plt.figure(figsize=(10,3))\n",
        "df.Tehran.plot()"
      ]
    },
    {
      "cell_type": "code",
      "execution_count": null,
      "metadata": {
        "id": "haZTJXWS6j7o"
      },
      "outputs": [],
      "source": [
        "# [[[1], [2], [3], [4], [5]]] [6]\n",
        "# [[[2], [3], [4], [5], [6]]] [7]\n",
        "# [[[3], [4], [5], [6], [7]]] [8]\n",
        "\n",
        "def df_to_X_y(df, window_size):\n",
        "  df_as_np = df.to_numpy()\n",
        "  X = []\n",
        "  y = []\n",
        "  for i in range(len(df_as_np)-window_size):\n",
        "    row = [[a] for a in df_as_np[i:i+window_size]]\n",
        "    X.append(row)\n",
        "    label = df_as_np[i+window_size]\n",
        "    y.append(label)\n",
        "  return np.array(X), np.array(y)"
      ]
    },
    {
      "cell_type": "code",
      "execution_count": null,
      "metadata": {
        "id": "PT8jehAg8ub2"
      },
      "outputs": [],
      "source": [
        "temp = df.XXX"
      ]
    },
    {
      "cell_type": "code",
      "execution_count": null,
      "metadata": {
        "id": "kLZ0Iqu65HO5"
      },
      "outputs": [],
      "source": [
        "WINDOW_SIZE = 7\n",
        "X1, y1 = df_to_X_y(temp, WINDOW_SIZE)\n",
        "X1.shape, y1.shape"
      ]
    },
    {
      "cell_type": "code",
      "execution_count": null,
      "metadata": {
        "id": "huRFhCxW95As"
      },
      "outputs": [],
      "source": [
        "X_train1, y_train1 = X1[:750], y1[:750]\n",
        "X_val1, y_val1 = X1[750:800], y1[750:800]\n",
        "X_test1, y_test1 = X1[800:], y1[800:]\n",
        "X_train1.shape, y_train1.shape, X_val1.shape, y_val1.shape, X_test1.shape, y_test1.shape"
      ]
    },
    {
      "cell_type": "code",
      "execution_count": null,
      "metadata": {
        "id": "leMLDdXt-NqV"
      },
      "outputs": [],
      "source": [
        "from tensorflow.keras.models import Sequential\n",
        "from tensorflow.keras.layers import *\n",
        "from tensorflow.keras.callbacks import ModelCheckpoint\n",
        "from tensorflow.keras.losses import MeanSquaredError\n",
        "from tensorflow.keras.metrics import RootMeanSquaredError\n",
        "from tensorflow.keras.optimizers import Adam\n",
        "seed = 7\n",
        "tf.random.set_seed(seed)\n",
        "model1 = Sequential()\n",
        "model1.add(InputLayer((WINDOW_SIZE, 1)))\n",
        "model1.add(LSTM(64))\n",
        "#model1.add(LSTM(64))\n",
        "#model1.add(Dense(8, 'tanh'))\n",
        "#model1.add(Dense(1, 'linear'))\n",
        "model1.add(Dense(1))\n",
        "model1.summary()"
      ]
    },
    {
      "cell_type": "code",
      "execution_count": null,
      "metadata": {
        "id": "UyJxW1xw-TKF"
      },
      "outputs": [],
      "source": [
        "cp1 = ModelCheckpoint('model1/', save_best_only=True)\n",
        "model1.compile(loss=MeanSquaredError(), optimizer=Adam(learning_rate=0.01), metrics=[RootMeanSquaredError()])"
      ]
    },
    {
      "cell_type": "code",
      "execution_count": null,
      "metadata": {
        "id": "cj2YQQwL-T_M"
      },
      "outputs": [],
      "source": [
        "model1.fit(X_train1, y_train1, validation_data=(X_val1, y_val1), epochs=50, callbacks=[cp1])"
      ]
    },
    {
      "cell_type": "code",
      "execution_count": null,
      "metadata": {
        "id": "xWZj9MhU-WEU"
      },
      "outputs": [],
      "source": [
        "# from tensorflow.keras.models import load_model\n",
        "# model1 = load_model('model1/')"
      ]
    },
    {
      "cell_type": "code",
      "execution_count": null,
      "metadata": {
        "id": "jOCLzlog-co5"
      },
      "outputs": [],
      "source": [
        "train_predictions = model1.predict(X_train1).flatten()\n",
        "train_results = pd.DataFrame(data={'Train Predictions':train_predictions, 'Actuals':y_train1})\n",
        "train_results"
      ]
    },
    {
      "cell_type": "code",
      "execution_count": null,
      "metadata": {
        "id": "YgkcClAB-kxU"
      },
      "outputs": [],
      "source": [
        "\n",
        "train_results[\"Actuals\"].plot()\n",
        "train_results[\"Train Predictions\"].plot()"
      ]
    },
    {
      "cell_type": "code",
      "execution_count": null,
      "metadata": {
        "id": "vuY5nmGYZ8ix"
      },
      "outputs": [],
      "source": [
        "val_predictions = model1.predict(X_val1).flatten()\n",
        "val_results = pd.DataFrame(data={'Val Predictions':val_predictions, 'Actuals':y_val1})\n",
        "val_results"
      ]
    },
    {
      "cell_type": "code",
      "execution_count": null,
      "metadata": {
        "id": "6MlctzuuaQww"
      },
      "outputs": [],
      "source": [
        "plt.plot(val_results['Val Predictions'],label=\"Predict\")\n",
        "plt.plot(val_results['Actuals'],label=\"actual\")\n",
        "plt.legend()\n"
      ]
    },
    {
      "cell_type": "code",
      "execution_count": null,
      "metadata": {
        "id": "5O59Q8MTaRN7"
      },
      "outputs": [],
      "source": [
        "test_predictions = model1.predict(X_test1).flatten()\n",
        "test_results = pd.DataFrame(data={'Test Predictions':test_predictions, 'Actuals':y_test1})\n",
        "test_results"
      ]
    },
    {
      "cell_type": "code",
      "execution_count": null,
      "metadata": {
        "id": "m8UzGIfEaW-P"
      },
      "outputs": [],
      "source": [
        "plt.figure(figsize=(11,5))\n",
        "plt.plot(test_results['Test Predictions'],label=\"Prediction\")\n",
        "plt.plot(test_results['Actuals'],label=\"actual\")\n",
        "\n",
        "#one_layer_LSTM=test_results['Test Predictions']\n",
        "#plt.plot(one_layer_LSTM.shift(-23),label=\"past\")\n",
        "plt.legend()"
      ]
    },
    {
      "cell_type": "code",
      "execution_count": null,
      "metadata": {
        "id": "JEgc90UopPHh"
      },
      "outputs": [],
      "source": [
        "# multivariate output stacked lstm example\n",
        "from numpy import array\n",
        "from numpy import hstack\n",
        "from keras.models import Sequential\n",
        "from keras.layers import LSTM\n",
        "from keras.layers import Dense\n",
        "# split a multivariate sequence into samples\n",
        "def split_sequences(sequences, n_steps):\n",
        "  X, y = list(), list()\n",
        "  for i in range(len(sequences)):\n",
        "    # find the end of this pattern\n",
        "    end_ix = i + n_steps\n",
        "    # check if we are beyond the dataset\n",
        "    if end_ix > len(sequences)-1:\n",
        "      break\n",
        "    # gather input and output parts of the pattern\n",
        "    seq_x, seq_y = sequences[i:end_ix, :], sequences[end_ix, :]\n",
        "    X.append(seq_x)\n",
        "    y.append(seq_y)\n",
        "  return array(X), array(y)\n",
        "# define input sequence\n",
        "in_seq1 = array(df.XXX)\n",
        "in_seq2 = array(df.YYY)\n",
        "#out_seq = array([in_seq1[i]+in_seq2[i] for i in range(len(in_seq1))])\n",
        "# convert to [rows, columns] structure\n",
        "in_seq1 = in_seq1.reshape((len(in_seq1), 1))\n",
        "in_seq2 = in_seq2.reshape((len(in_seq2), 1))\n",
        "#out_seq = out_seq.reshape((len(out_seq), 1))\n",
        "# horizontally stack columns\n",
        "dataset = hstack((in_seq1, in_seq2))\n",
        "# choose a number of time steps\n",
        "n_steps = 3\n",
        "# convert into input/output\n",
        "X, y = split_sequences(dataset, n_steps)\n",
        "# the dataset knows the number of features, e.g. 2\n",
        "n_features = X.shape[2]\n",
        "# define model\n",
        "y"
      ]
    },
    {
      "cell_type": "code",
      "execution_count": null,
      "metadata": {
        "id": "RbGUoUNGswQr"
      },
      "outputs": [],
      "source": [
        "X_train1, y_train1 = X[:750], y[:750]\n",
        "X_val1, y_val1 = X[750:800], y[750:800]\n",
        "X_test1, y_test1 = X[800:], y[800:]\n",
        "X_train1.shape, y_train1.shape, X_val1.shape, y_val1.shape, X_test1.shape, y_test1.shape"
      ]
    },
    {
      "cell_type": "code",
      "execution_count": null,
      "metadata": {
        "id": "MokIPsxAsykO"
      },
      "outputs": [],
      "source": [
        "seed = 7\n",
        "tf.random.set_seed(seed)\n",
        "model1 = Sequential()\n",
        "model1.add(InputLayer((n_steps, n_features)))\n",
        "model1.add(LSTM(64))\n",
        "#model1.add(LSTM(64))\n",
        "#model1.add(Dense(8, 'tanh'))\n",
        "#model1.add(Dense(1, 'linear'))\n",
        "model1.add(Dense(1))\n",
        "model1.summary()"
      ]
    },
    {
      "cell_type": "code",
      "execution_count": null,
      "metadata": {
        "id": "R7ySKghk0gXN"
      },
      "outputs": [],
      "source": [
        "model1.compile(optimizer='adam', loss='mse')\n",
        "model1.fit(X_train1, y_train1, validation_data=(X_val1, y_val1), epochs=50, callbacks=[cp1])\n"
      ]
    },
    {
      "cell_type": "code",
      "execution_count": null,
      "metadata": {
        "id": "ngMNu2rbsBdV"
      },
      "outputs": [],
      "source": []
    },
    {
      "cell_type": "code",
      "execution_count": null,
      "metadata": {
        "id": "_a899qf8rSut"
      },
      "outputs": [],
      "source": [
        "test_predictions = model.predict(X_test1)\n",
        "#test_results = pd.DataFrame(data={'Test Predictions':test_predictions, 'Actuals':y_test1})\n",
        "#test_results"
      ]
    },
    {
      "cell_type": "code",
      "execution_count": null,
      "metadata": {
        "id": "mcuwFz5txia5"
      },
      "outputs": [],
      "source": [
        "len(test_predictions)"
      ]
    },
    {
      "cell_type": "code",
      "execution_count": null,
      "metadata": {
        "id": "ZyLfrgFvv4Te"
      },
      "outputs": [],
      "source": [
        "y_test1[0]"
      ]
    },
    {
      "cell_type": "code",
      "execution_count": null,
      "metadata": {
        "id": "az9JXssnutv6"
      },
      "outputs": [],
      "source": [
        "test_predictions[0]"
      ]
    },
    {
      "cell_type": "code",
      "execution_count": null,
      "metadata": {
        "id": "oFWGh9HmrUh1"
      },
      "outputs": [],
      "source": [
        "plt.figure(figsize=(11,5))\n",
        "plt.plot(test_predictions,label=\"Prediction\")\n",
        "plt.plot(y_test1,label=\"actual\")\n",
        "\n",
        "\n",
        "plt.legend()"
      ]
    },
    {
      "cell_type": "code",
      "execution_count": null,
      "metadata": {
        "id": "h4pAieZawHEP"
      },
      "outputs": [],
      "source": []
    }
  ],
  "metadata": {
    "colab": {
      "provenance": []
    },
    "kernelspec": {
      "display_name": "Python 3",
      "name": "python3"
    },
    "language_info": {
      "name": "python"
    }
  },
  "nbformat": 4,
  "nbformat_minor": 0
}
